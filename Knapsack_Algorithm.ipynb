{
  "nbformat": 4,
  "nbformat_minor": 0,
  "metadata": {
    "colab": {
      "name": "Knapsack_Algorithm.ipynb",
      "provenance": [],
      "collapsed_sections": [],
      "authorship_tag": "ABX9TyMJFwojRPNLUzgUeCi9KJnq",
      "include_colab_link": true
    },
    "kernelspec": {
      "name": "python3",
      "display_name": "Python 3"
    },
    "language_info": {
      "name": "python"
    }
  },
  "cells": [
    {
      "cell_type": "markdown",
      "metadata": {
        "id": "view-in-github",
        "colab_type": "text"
      },
      "source": [
        "<a href=\"https://colab.research.google.com/github/muhammad-mobeen/KnapSack-Algorithm/blob/main/Knapsack_Algorithm.ipynb\" target=\"_parent\"><img src=\"https://colab.research.google.com/assets/colab-badge.svg\" alt=\"Open In Colab\"/></a>"
      ]
    },
    {
      "cell_type": "code",
      "execution_count": 1,
      "metadata": {
        "id": "67NSKuDoCzWA"
      },
      "outputs": [],
      "source": [
        "class Object:\n",
        "  def __init__(khud, name, profit, weight):\n",
        "    khud.name = str(name)\n",
        "    khud.profit = profit\n",
        "    khud.weight = weight\n",
        "    khud.ratio = float(\"{:.3}\".format(profit/weight))\n",
        "\n",
        "class KnapSack:\n",
        "  def __init__(maira, objs, capacity):\n",
        "    #data\n",
        "    maira.objs = objs\n",
        "    maira.capacity = capacity\n",
        "    #functional\n",
        "    maira.objs.sort(key=maira.get_ratio, reverse=True)\n",
        "    print(\"Objects sorted according to the Ratio:-\")\n",
        "    maira.show_objs()\n",
        "    maira.max_profit()\n",
        "\n",
        "  def show_objs(maira):\n",
        "    for i, ob in enumerate(maira.objs,1):\n",
        "      print(\"Instance#{} Name:{} | Profit: {} | Weight: {} | Ratio: {}\".format(i, ob.name, ob.profit, ob.weight, ob.ratio))\n",
        "    print(\"\")\n",
        "\n",
        "  def get_ratio(maira,obj):\n",
        "      return obj.ratio\n",
        "\n",
        "  def max_profit(maira):\n",
        "    cap = maira.capacity\n",
        "    max_profit = 0\n",
        "    for ob in maira.objs:\n",
        "      if cap - ob.weight >= 0:\n",
        "        cap -= ob.weight\n",
        "        max_profit += ob.profit\n",
        "      else:\n",
        "        max_profit += ob.profit * (cap/ob.weight)\n",
        "        cap -= ob.weight * (cap/ob.weight)\n",
        "        break\n",
        "    print(\"Max Profit: {} | Remaining Capacity: {}\".format(max_profit, cap))\n",
        "\n",
        "def show_objs(objs):\n",
        "  for i, ob in enumerate(objs,1):\n",
        "    print(\"Instance#{} Name:{} | Profit: {} | Weight: {} | Ratio: {}\".format(i, ob.name, ob.profit, ob.weight, ob.ratio))"
      ]
    },
    {
      "cell_type": "code",
      "source": [
        "objs = []\n",
        "#Objects data\n",
        "objs.append(Object(\"obj1\",25,18))\n",
        "objs.append(Object(\"obj2\",24,15))\n",
        "objs.append(Object(\"obj3\",15,10))\n",
        "\n",
        "#display\n",
        "show_objs(objs)"
      ],
      "metadata": {
        "id": "d-zmRTr7D2Oa"
      },
      "execution_count": null,
      "outputs": []
    },
    {
      "cell_type": "code",
      "source": [
        "#Run KnapSack\n",
        "Problem = KnapSack(objs,20)"
      ],
      "metadata": {
        "id": "M2UYV_3tpQor"
      },
      "execution_count": null,
      "outputs": []
    }
  ]
}